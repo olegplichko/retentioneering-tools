{
 "cells": [
  {
   "cell_type": "code",
   "execution_count": null,
   "metadata": {
    "scrolled": true
   },
   "outputs": [],
   "source": [
    "!pip freeze | grep retentioneering"
   ]
  },
  {
   "cell_type": "code",
   "execution_count": null,
   "metadata": {},
   "outputs": [],
   "source": [
    "### -e git+https://github.com/retentioneering/retentioneering-tools@be0b2f76cd09aaba6909392d0248c111099031a4#egg=retentioneering"
   ]
  },
  {
   "cell_type": "code",
   "execution_count": null,
   "metadata": {},
   "outputs": [],
   "source": [
    "import re\n",
    "import json\n",
    "import requests\n",
    "import stripe\n",
    "import pandas as pd\n",
    "from retentioneering import init_config"
   ]
  },
  {
   "cell_type": "markdown",
   "metadata": {},
   "source": [
    "## Config"
   ]
  },
  {
   "cell_type": "code",
   "execution_count": null,
   "metadata": {},
   "outputs": [],
   "source": [
    "START_DATE = '2019-06-19'\n",
    "END_DATE = '2019-07-19'\n",
    "STRIPE_API_KEY = \"sk_live_<>\"\n",
    "LIMIT = None\n",
    "POSITIVE_EVENTS = [\n",
    "    'invoice.payment_succeeded', 'charge.succeeded', 'payment_intent.succeeded',\n",
    "]\n",
    "NEGATIVE_EVENTS = [\n",
    "    'churn'\n",
    "]\n",
    "COHORT_INITIATION_EVENTS = [\n",
    "    'customer.created', \n",
    "    'payment_method.attached', \n",
    "    'payment_intent.created', \n",
    "    'customer.subscription.created',\n",
    "]\n",
    "CUSTOMER_IDS = None\n",
    "EXCLUDE_EVENT_TYPES = [\n",
    "    # Не связаны с customer\n",
    "    'plan.created',\n",
    "    'product.created',\n",
    "    'reporting.report_type.updated',\n",
    "    # Связаные с платежным методом не привязанным к customer\n",
    "    'balance.available',\n",
    "    'source.chargeable'  # https://stripe.com/docs/sources/best-practices#source-creation\n",
    "]\n",
    "INCLUDE_EVENTS_CONDITIONS = [\n",
    "    {'livemode': True} #  live mode only\n",
    "]"
   ]
  },
  {
   "cell_type": "markdown",
   "metadata": {},
   "source": [
    "## SETUP"
   ]
  },
  {
   "cell_type": "code",
   "execution_count": null,
   "metadata": {},
   "outputs": [],
   "source": [
    "stripe.api_key = STRIPE_API_KEY"
   ]
  },
  {
   "cell_type": "code",
   "execution_count": null,
   "metadata": {
    "scrolled": true
   },
   "outputs": [],
   "source": [
    "import datetime\n",
    "\n",
    "def get_time_delta_timestamp(days):\n",
    "    date = (datetime.datetime.now() + datetime.timedelta(days=days))\n",
    "    print(date)\n",
    "    return date.strftime('%s')\n",
    "\n",
    "print(\"Today\")\n",
    "today_timestamp = get_time_delta_timestamp(0)\n",
    "print('Last month start date')\n",
    "last_30_days_timestamp = get_time_delta_timestamp(-30)\n",
    "print('Last week start date')\n",
    "last_7_days_timestamp = get_time_delta_timestamp(-7)"
   ]
  },
  {
   "cell_type": "code",
   "execution_count": null,
   "metadata": {},
   "outputs": [],
   "source": [
    "if not START_DATE:\n",
    "    START_DATE_TIMESTAMP = last_30_days_timestamp\n",
    "else:\n",
    "    START_DATE_TIMESTAMP = datetime.datetime.strptime(START_DATE, '%Y-%m-%d').strftime('%s')\n",
    "\n",
    "if not END_DATE:\n",
    "    END_DATE_TIMESTAMP = today_timestamp\n",
    "else:\n",
    "    END_DATE_TIMESTAMP = datetime.datetime.strptime(END_DATE, '%Y-%m-%d').strftime('%s')"
   ]
  },
  {
   "cell_type": "markdown",
   "metadata": {},
   "source": [
    "## UTILS"
   ]
  },
  {
   "cell_type": "code",
   "execution_count": null,
   "metadata": {},
   "outputs": [],
   "source": [
    "def get_customer_id_from_object(value):\n",
    "    string = json.dumps(value)\n",
    "    try:\n",
    "        customer_id = re.search('\"(cus_[^\"]+)\",', string, re.IGNORECASE).group(1)\n",
    "    except:\n",
    "        return None\n",
    "    return customer_id"
   ]
  },
  {
   "cell_type": "markdown",
   "metadata": {},
   "source": [
    "## Get customers create last 30 days"
   ]
  },
  {
   "cell_type": "code",
   "execution_count": null,
   "metadata": {},
   "outputs": [],
   "source": [
    "customers = stripe.Customer.list(\n",
    "    limit=100,\n",
    "    created={'gte': START_DATE_TIMESTAMP, 'lte': END_DATE_TIMESTAMP}\n",
    ")\n",
    "cohort_customers = [customer for customer in customers.auto_paging_iter()]"
   ]
  },
  {
   "cell_type": "code",
   "execution_count": null,
   "metadata": {},
   "outputs": [],
   "source": [
    "if not CUSTOMER_IDS:\n",
    "    CUSTOMER_IDS = set([customer['id'] for customer in cohort_customers])"
   ]
  },
  {
   "cell_type": "code",
   "execution_count": null,
   "metadata": {},
   "outputs": [],
   "source": [
    "print(f\"Set CUSTOMER_IDS ({len(CUSTOMER_IDS)} items)\", CUSTOMER_IDS)"
   ]
  },
  {
   "cell_type": "markdown",
   "metadata": {},
   "source": [
    "## Get stripe events"
   ]
  },
  {
   "cell_type": "markdown",
   "metadata": {},
   "source": [
    "#### All event types with description https://stripe.com/docs/api/events/types"
   ]
  },
  {
   "cell_type": "code",
   "execution_count": null,
   "metadata": {},
   "outputs": [],
   "source": [
    "def query(\n",
    "    customer_ids=CUSTOMER_IDS, initiation_events=COHORT_INITIATION_EVENTS, \n",
    "    exclude_event_types=EXCLUDE_EVENT_TYPES,\n",
    "    include_event_conditions=INCLUDE_EVENTS_CONDITIONS,\n",
    "    limit=LIMIT\n",
    "):\n",
    "    if not customer_ids:\n",
    "        customer_ids = set()\n",
    "    counter = 0\n",
    "    events = stripe.Event.list(\n",
    "        limit=100,\n",
    "        created={'gte': START_DATE_TIMESTAMP, 'lte': END_DATE_TIMESTAMP}\n",
    "    )\n",
    "    result = []\n",
    "    for event in events.auto_paging_iter():\n",
    "        if limit and counter >= limit:\n",
    "            print(\"Limit reached\")\n",
    "            break\n",
    "        try:\n",
    "            event_id = event['id']\n",
    "            event_type = event['type']\n",
    "            \n",
    "            if event_type in exclude_event_types:\n",
    "                print(f\"Skip event {event_type} {event_id}\")\n",
    "                continue\n",
    "            skip = False\n",
    "            for condition in include_event_conditions:\n",
    "                if skip:\n",
    "                    break\n",
    "                for key, value in condition.items():\n",
    "                    if not event.get(key) == value:\n",
    "                        print(f\"Skip event {event_type} {event_id} not in condition\", f\"{key} == {value}\")\n",
    "                        skip = True\n",
    "                        break\n",
    "            if skip:\n",
    "                continue\n",
    "            \n",
    "            data_object = event['data']['object']\n",
    "            customer_id = data_object.get('customer')\n",
    "            if not customer_id:\n",
    "                if data_object['object'] == 'customer':\n",
    "                    customer_id = data_object['id']\n",
    "                else:\n",
    "                    customer_id = get_customer_id_from_object(data_object)\n",
    "            \n",
    "            if event_type in initiation_events:\n",
    "                customer_ids.add(customer_id)\n",
    "            if customer_id not in customer_ids:\n",
    "                print(f\"Skip {event_type} {event_id} customer {customer_id} not in the list\")\n",
    "                continue\n",
    "            result.append(\n",
    "                {\n",
    "                    'event_name': event['type'], 'event_timestamp': event['created'], \n",
    "                    'user_pseudo_id': customer_id,\n",
    "                    'livemod': event['livemode'], 'api_version': event['api_version']\n",
    "                }\n",
    "            )\n",
    "        except KeyError as e:\n",
    "            print(f\"{repr(e)}\", event)\n",
    "        else:\n",
    "            counter += 1\n",
    "    print(f\"Total customers {len(customer_ids)}\")\n",
    "    return pd.DataFrame(result)"
   ]
  },
  {
   "cell_type": "code",
   "execution_count": null,
   "metadata": {
    "scrolled": false
   },
   "outputs": [],
   "source": [
    "data_full = query()"
   ]
  },
  {
   "cell_type": "code",
   "execution_count": null,
   "metadata": {},
   "outputs": [],
   "source": [
    "len(data_full)"
   ]
  },
  {
   "cell_type": "code",
   "execution_count": null,
   "metadata": {},
   "outputs": [],
   "source": [
    "data_full"
   ]
  },
  {
   "cell_type": "markdown",
   "metadata": {},
   "source": [
    "## Get stripe logs"
   ]
  },
  {
   "cell_type": "code",
   "execution_count": null,
   "metadata": {},
   "outputs": [],
   "source": [
    "COUNT = '?count=1000'\n",
    "SUCCESS = '&success=false'\n",
    "DASHBOARD = '&dashboard=false' # made by API\n",
    "OFFSET = '' #'offset=100'\n",
    "if START_DATE_TIMESTAMP and END_DATE_TIMESTAMP:\n",
    "    CREATED = f'&created[gte]={START_DATE_TIMESTAMP}&created[lte]={END_DATE_TIMESTAMP}'\n",
    "else:\n",
    "    CREATED = ''\n",
    "\n",
    "REST_ARGS = '&direction[]=connect_out&direction[]=self'\n",
    "LOGS_URL = f'https://dashboard.stripe.com/ajax/logs{COUNT}{SUCCESS}{OFFSET}{DASHBOARD}{CREATED}{REST_ARGS}'\n",
    "\n",
    "CSRF_TOKEN = '<>'\n",
    "STRIPE_ACCOUNT = 'acct_<>'\n",
    "STRIPE_LIVEMODE = 'true'\n",
    "STRIPE_VERSION = '2019-05-16'"
   ]
  },
  {
   "cell_type": "code",
   "execution_count": null,
   "metadata": {},
   "outputs": [],
   "source": [
    "COOKIE = '<>'"
   ]
  },
  {
   "cell_type": "code",
   "execution_count": null,
   "metadata": {},
   "outputs": [],
   "source": [
    "def query_logs(\n",
    "    url=LOGS_URL,\n",
    "    csrf_token=CSRF_TOKEN,\n",
    "    cookie=COOKIE,\n",
    "    stripe_account=STRIPE_ACCOUNT,\n",
    "    stripe_livemode=STRIPE_LIVEMODE,\n",
    "    stripe_version=STRIPE_VERSION,\n",
    "    customer_ids=CUSTOMER_IDS\n",
    "):\n",
    "    logs = requests.get(\n",
    "        url,\n",
    "        headers={\n",
    "            'x-stripe-csrf-token': csrf_token,\n",
    "            'cookie': cookie,\n",
    "            'stripe-account': stripe_account,\n",
    "            'stripe-livemode': stripe_livemode,\n",
    "            'stripe-version': stripe_version\n",
    "        }\n",
    "    ).json()\n",
    "    print(\"Logs\", len(logs['data']))\n",
    "    print(\"Logs total count\", logs['total_count'])\n",
    "    print(\"Logs has more\", logs['has_more'])\n",
    "    \n",
    "    result = []\n",
    "    for log in logs['data']:\n",
    "        customer_id = log.get('customer')\n",
    "        request_id = log['id']\n",
    "        if not customer_id:\n",
    "            customer_id = get_customer_id_from_object(log)\n",
    "        \n",
    "        event_name = f\"{log['response']['status']} {log['request']['method']} {log['request']['url']}\"\n",
    "        \n",
    "        if not customer_id:\n",
    "            print(f\"Skip log {event_name} {request_id} no customer id\")\n",
    "            continue\n",
    "        if customer_id not in customer_ids:\n",
    "            print(f\"Skip {event_name} {request_id} customer {customer_id} not in the list\")\n",
    "            continue\n",
    "        \n",
    "        result.append(\n",
    "            {\n",
    "                'event_name': event_name, \n",
    "                'event_timestamp': log['created'], \n",
    "                'user_pseudo_id': customer_id,\n",
    "            }\n",
    "        )\n",
    "    return pd.DataFrame(result)"
   ]
  },
  {
   "cell_type": "code",
   "execution_count": null,
   "metadata": {},
   "outputs": [],
   "source": [
    "logs_data_full = query_logs()"
   ]
  },
  {
   "cell_type": "code",
   "execution_count": null,
   "metadata": {
    "scrolled": true
   },
   "outputs": [],
   "source": [
    "len(logs_data_full)"
   ]
  },
  {
   "cell_type": "code",
   "execution_count": null,
   "metadata": {},
   "outputs": [],
   "source": [
    "logs_data_full"
   ]
  },
  {
   "cell_type": "markdown",
   "metadata": {},
   "source": [
    "## Concat data"
   ]
  },
  {
   "cell_type": "code",
   "execution_count": null,
   "metadata": {},
   "outputs": [],
   "source": [
    "data_full = pd.concat([data_full, logs_data_full], sort=True)"
   ]
  },
  {
   "cell_type": "code",
   "execution_count": null,
   "metadata": {},
   "outputs": [],
   "source": [
    "print(\"Full data\")\n",
    "data_full"
   ]
  },
  {
   "cell_type": "markdown",
   "metadata": {},
   "source": [
    "## 1. Work with single trajectories"
   ]
  },
  {
   "cell_type": "markdown",
   "metadata": {},
   "source": [
    "### User with longest billing history this month:"
   ]
  },
  {
   "cell_type": "code",
   "execution_count": null,
   "metadata": {},
   "outputs": [],
   "source": [
    "# if you want to select only your trajectory\n",
    "# put here your user_id\n",
    "user_id = None\n",
    "if not user_id:\n",
    "    user_id = data_full.user_pseudo_id.value_counts().idxmax()\n",
    "print(\"Customer ID\", user_id)\n",
    "\n",
    "# this will show your events\n",
    "data = data_full[data_full.user_pseudo_id == user_id]\n",
    "print(\"All customer's events\")\n",
    "data"
   ]
  },
  {
   "cell_type": "code",
   "execution_count": null,
   "metadata": {},
   "outputs": [],
   "source": [
    "#cus_FSjyDDxGFjxmNa lots of failed charges # cus_FRbJeQ9BDebfl8 with successed"
   ]
  },
  {
   "cell_type": "code",
   "execution_count": null,
   "metadata": {},
   "outputs": [],
   "source": [
    "print(\"Positive\", POSITIVE_EVENTS[0])\n",
    "print(\"Negative\", NEGATIVE_EVENTS[0])"
   ]
  },
  {
   "cell_type": "code",
   "execution_count": null,
   "metadata": {},
   "outputs": [],
   "source": [
    "init_config(\n",
    "    experiments_folder='experiments', \n",
    "     \n",
    "    index_col='user_pseudo_id',\n",
    "    event_col='event_name', \n",
    "    event_time_col='event_timestamp', \n",
    "    \n",
    "    positive_target_event=POSITIVE_EVENTS[0], \n",
    "    negative_target_event=NEGATIVE_EVENTS[0], \n",
    "    \n",
    "    pos_target_definition={},\n",
    "    neg_target_definition={},\n",
    ")"
   ]
  },
  {
   "cell_type": "code",
   "execution_count": null,
   "metadata": {},
   "outputs": [],
   "source": [
    "data = data.retention.prepare()"
   ]
  },
  {
   "cell_type": "code",
   "execution_count": null,
   "metadata": {},
   "outputs": [],
   "source": [
    "desc_table = data.retention.get_step_matrix(max_steps=30)"
   ]
  },
  {
   "cell_type": "code",
   "execution_count": null,
   "metadata": {},
   "outputs": [],
   "source": [
    "data.retention.plot_graph(thresh=0.05, width=800, height=800)"
   ]
  },
  {
   "cell_type": "markdown",
   "metadata": {},
   "source": [
    "## 2. Basic instruments to work with trajectories set"
   ]
  },
  {
   "cell_type": "code",
   "execution_count": null,
   "metadata": {},
   "outputs": [],
   "source": [
    "init_config(\n",
    "    experiments_folder='experiments', # folder for saving experiment results: graph visualization, heatmaps and etc.\n",
    "    index_col='user_pseudo_id', # column by which we split users / sessions / whatever\n",
    "    event_col='event_name', # column that describes event\n",
    "    event_time_col='event_timestamp', # column that describes timestamp of event\n",
    "    \n",
    "    #let's pick positive event as sending the score (only available after game completed)\n",
    "    positive_target_event=POSITIVE_EVENTS[0], # name of positive target event\n",
    "    negative_target_event=NEGATIVE_EVENTS[0], # name of negative target event\n",
    "    \n",
    "    pos_target_definition={ # how to define positive event, e.g. empty means that add passed for whom was not 'lost'\n",
    "        #'event_list': POSITIVE_EVENTS\n",
    "    },\n",
    "    neg_target_definition={ # how to define negative event\n",
    "    },\n",
    ")"
   ]
  },
  {
   "cell_type": "code",
   "execution_count": null,
   "metadata": {},
   "outputs": [],
   "source": [
    "user_set = ['cus_FSjyDDxGFjxmNa', 'cus_FRbJeQ9BDebfl8']\n",
    "data = data_full[data_full.apply(lambda x: x['user_pseudo_id'] in user_set, axis=1)]"
   ]
  },
  {
   "cell_type": "code",
   "execution_count": null,
   "metadata": {},
   "outputs": [],
   "source": [
    "data = data.retention.prepare()"
   ]
  },
  {
   "cell_type": "code",
   "execution_count": null,
   "metadata": {},
   "outputs": [],
   "source": [
    "desc_table = data.retention.get_step_matrix(max_steps=30)"
   ]
  },
  {
   "cell_type": "code",
   "execution_count": null,
   "metadata": {},
   "outputs": [],
   "source": [
    "# create group filter based on target events\n",
    "diff_filter = data.retention.create_filter()\n",
    "\n",
    "# calculate difference table between two groups\n",
    "diff_table = data.retention.get_step_matrix_difference(diff_filter, max_steps=30)"
   ]
  },
  {
   "cell_type": "code",
   "execution_count": null,
   "metadata": {},
   "outputs": [],
   "source": [
    "data.retention.plot_graph(thresh=0.05, width=800, height=800)"
   ]
  },
  {
   "cell_type": "markdown",
   "metadata": {},
   "source": [
    "## 3. Inspect all trajectories for larger group of users¶"
   ]
  },
  {
   "cell_type": "code",
   "execution_count": null,
   "metadata": {},
   "outputs": [],
   "source": [
    "init_config(\n",
    "    experiments_folder='experiments', # folder for saving experiment results: graph visualization, heatmaps and etc.\n",
    "    index_col='user_pseudo_id', # column by which we split users / sessions / whatever\n",
    "    event_col='event_name', # column that describes event\n",
    "    event_time_col='event_timestamp', # column that describes timestamp of event\n",
    "    \n",
    "    #let's pick positive event as sending the score (only available after game completed)\n",
    "    positive_target_event=POSITIVE_EVENTS[0], # name of positive target event\n",
    "    negative_target_event=NEGATIVE_EVENTS[0], # name of negative target event\n",
    "    \n",
    "    pos_target_definition={ # how to define positive event, e.g. empty means that add passed for whom was not 'lost'\n",
    "        \n",
    "    },\n",
    "    neg_target_definition={ # how to define negative event\n",
    "        #emply means all that are not positive will be \"lost\"\n",
    "    },\n",
    ")"
   ]
  },
  {
   "cell_type": "code",
   "execution_count": null,
   "metadata": {},
   "outputs": [],
   "source": [
    "data = data_full # [data_full['event_timestamp'] < '2019-07-17 11:00:00']"
   ]
  },
  {
   "cell_type": "code",
   "execution_count": null,
   "metadata": {},
   "outputs": [],
   "source": [
    "data = data.retention.prepare()"
   ]
  },
  {
   "cell_type": "code",
   "execution_count": null,
   "metadata": {},
   "outputs": [],
   "source": [
    "# create group filter based on target events\n",
    "diff_filter = data.retention.create_filter()\n",
    "\n",
    "# calculate difference table between two groups\n",
    "diff_table = data.retention.get_step_matrix_difference(diff_filter, max_steps=30)"
   ]
  },
  {
   "cell_type": "code",
   "execution_count": null,
   "metadata": {},
   "outputs": [],
   "source": [
    "data.retention.learn_tsne(perplexity=3, plot_type='targets', refit=True);"
   ]
  },
  {
   "cell_type": "markdown",
   "metadata": {},
   "source": [
    "#### churn копиться в группах пользовтелей с определенными событиями в платежной истории"
   ]
  },
  {
   "cell_type": "code",
   "execution_count": null,
   "metadata": {},
   "outputs": [],
   "source": [
    "data.retention.get_clusters(n_clusters=6, plot_type='cluster_tsne', refit_cluster=True);"
   ]
  },
  {
   "cell_type": "code",
   "execution_count": null,
   "metadata": {},
   "outputs": [],
   "source": [
    "data.retention.get_clusters(plot_type='cluster_pie',plot_cnt=6);"
   ]
  },
  {
   "cell_type": "markdown",
   "metadata": {},
   "source": [
    "#### 6 классов пользователей 3 из которых платили"
   ]
  },
  {
   "cell_type": "markdown",
   "metadata": {},
   "source": [
    "#### 10% после invoice payment failed отваливаются"
   ]
  },
  {
   "cell_type": "code",
   "execution_count": null,
   "metadata": {},
   "outputs": [],
   "source": []
  }
 ],
 "metadata": {
  "kernelspec": {
   "display_name": "Python 3",
   "language": "python",
   "name": "python3"
  },
  "language_info": {
   "codemirror_mode": {
    "name": "ipython",
    "version": 3
   },
   "file_extension": ".py",
   "mimetype": "text/x-python",
   "name": "python",
   "nbconvert_exporter": "python",
   "pygments_lexer": "ipython3",
   "version": "3.7.3"
  }
 },
 "nbformat": 4,
 "nbformat_minor": 2
}
